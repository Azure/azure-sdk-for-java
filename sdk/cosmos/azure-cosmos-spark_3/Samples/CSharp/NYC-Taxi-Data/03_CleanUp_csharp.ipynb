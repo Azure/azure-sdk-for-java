{
  "cells": [
    {
      "cell_type": "markdown",
      "source": [
        "# Secrets\r\n",
        "\r\n",
        "## In Databricks\r\n",
        "The secrets below like the Cosmos account key are retrieved from a secret scope. If you don't have defined a secret scope for a Cosmos Account you want to use when going through this sample you can find the instructions on how to create one here:\r\n",
        "\r\n",
        "- Here you can Create a new secret scope for the current Databricks workspace\r\n",
        "  - See how you can create an [Azure Key Vault backed secret scope](https://docs.microsoft.com/azure/databricks/security/secrets/secret-scopes#--create-an-azure-key-vault-backed-secret-scope)\r\n",
        "  - See how you can create a [Databricks backed secret scope](https://docs.microsoft.com/azure/databricks/security/secrets/secret-scopes#create-a-databricks-backed-secret-scope)\r\n",
        "- And here you can find information on how to [add secrets to your Spark configuration](https://docs.microsoft.com/azure/databricks/security/secrets/secrets#read-a-secret).\r\n",
        "\r\n",
        "## In Synapse\r\n",
        "- You can find instructions on how to define a Cosmos DB account as linked service (with safe handling of secrets) [here](https://docs.microsoft.com/en-us/azure/synapse-analytics/synapse-link/how-to-connect-synapse-link-cosmos-db#connect-an-azure-cosmos-db-database-to-an-azure-synapse-workspace)\r\n",
        "\r\n",
        "If you don't want to use secrets at all you can of course also just assign the values in clear-text below - but for obvious reasons we recommend the usage of secrets."
      ],
      "metadata": {
        "nteract": {
          "transient": {
            "deleting": false
          }
        }
      }
    },
    {
      "cell_type": "code",
      "source": [
        "string cosmosEndpoint = spark.Conf().Get(\"spark.cosmos.accountEndpoint\");\r\n",
        "string cosmosMasterKey = spark.Conf().Get(\"spark.cosmos.accountKey\");\r\n",
        "\r\n",
        "Console.WriteLine($\"Cosmos Account endpoint: {cosmosEndpoint}\");"
      ],
      "outputs": [],
      "execution_count": null,
      "metadata": {}
    },
    {
      "cell_type": "markdown",
      "source": [
        "**Preparation - creating the Cosmos DB container to ingest the data into**\r\n",
        "\r\n",
        "Configure the Catalog API to be used"
      ],
      "metadata": {
        "nteract": {
          "transient": {
            "deleting": false
          }
        }
      }
    },
    {
      "cell_type": "code",
      "source": [
        "spark.Conf().Set(\"spark.sql.catalog.cosmosCatalog\", \"com.azure.cosmos.spark.CosmosCatalog\");\r\n",
        "spark.Conf().Set(\"spark.sql.catalog.cosmosCatalog.spark.cosmos.accountEndpoint\", cosmosEndpoint);\r\n",
        "spark.Conf().Set(\"spark.sql.catalog.cosmosCatalog.spark.cosmos.accountKey\", cosmosMasterKey);\r\n",
        "spark.Conf().Set(\"spark.sql.catalog.cosmosCatalog.spark.cosmos.views.repositoryPath\", $\"/viewDefinitions/{Guid.NewGuid().ToString()}\");"
      ],
      "outputs": [],
      "execution_count": null,
      "metadata": {
        "jupyter": {
          "source_hidden": false,
          "outputs_hidden": false
        },
        "nteract": {
          "transient": {
            "deleting": false
          }
        }
      }
    },
    {
      "cell_type": "markdown",
      "source": [
        "**Cleanup - deleting the Cosmos DB container and database again (to reduce cost) - skip this step if you want to keep them**"
      ],
      "metadata": {
        "nteract": {
          "transient": {
            "deleting": false
          }
        }
      }
    },
    {
      "cell_type": "code",
      "source": [
        "%%sql\r\n",
        "DROP TABLE IF EXISTS cosmosCatalog.SampleDatabase.GreenTaxiRecords;\r\n",
        "\r\n",
        "DROP TABLE IF EXISTS cosmosCatalog.SampleDatabase.GreenTaxiRecordsCFSink;\r\n",
        "\r\n",
        "DROP TABLE IF EXISTS cosmosCatalog.SampleDatabase.ThroughputControl;\r\n",
        "\r\n",
        "DROP DATABASE IF EXISTS cosmosCatalog.SampleDatabase CASCADE;"
      ],
      "outputs": [],
      "execution_count": null,
      "metadata": {
        "jupyter": {
          "source_hidden": false,
          "outputs_hidden": false
        },
        "nteract": {
          "transient": {
            "deleting": false
          }
        },
        "microsoft": {
          "language": "sparksql"
        },
        "collapsed": false
      }
    }
  ],
  "metadata": {
    "kernelspec": {
      "name": "synapse_pyspark",
      "language": "Python",
      "display_name": "Synapse PySpark"
    },
    "language_info": {
      "name": "csharp"
    },
    "kernel_info": {
      "name": "synapse_pyspark"
    },
    "description": null,
    "save_output": true,
    "synapse_widget": {
      "version": "0.1",
      "state": {}
    }
  },
  "nbformat": 4,
  "nbformat_minor": 2
}