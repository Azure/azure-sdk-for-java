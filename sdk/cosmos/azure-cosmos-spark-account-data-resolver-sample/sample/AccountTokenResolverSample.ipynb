{
 "cells": [
  {
   "cell_type": "code",
   "execution_count": 0,
   "metadata": {
    "application/vnd.databricks.v1+cell": {
     "cellmetadata": {
      "bytelimit": 2048000,
      "rowlimit": 10000
     },
     "inputwidgets": {},
     "nuid": "edf2bb67-c3fa-459c-bb4b-83dec2075401",
     "showtitle": false,
     "title": ""
    }
   },
   "outputs": [],
   "source": [
    "cosmosendpoint = \"https://fabianm-oltp-spark-workshop-cdb.documents.azure.com:443/\"\n",
    "cosmosmasterkey = \"\"\n",
    "cosmosserviceprincipalpassword=\"\"\n"
   ]
  },
  {
   "cell_type": "code",
   "execution_count": 0,
   "metadata": {
    "application/vnd.databricks.v1+cell": {
     "cellmetadata": {
      "bytelimit": 2048000,
      "rowlimit": 10000
     },
     "inputwidgets": {},
     "nuid": "67f2404c-a6b6-4342-9dac-638a2bd7731c",
     "showtitle": false,
     "title": ""
    }
   },
   "outputs": [],
   "source": [
    "import base64\n",
    "import os\n",
    "cert_file= open(\"/workspace/users/fabianm@microsoft.com/fabianm-spark-auth-sp-cert.pem\",\"rb\")\n",
    "cert_data_binary = cert_file.read()\n",
    "cert_data = (base64.b64encode(cert_data_binary)).decode('ascii')\n"
   ]
  },
  {
   "cell_type": "code",
   "execution_count": 0,
   "metadata": {
    "application/vnd.databricks.v1+cell": {
     "cellmetadata": {
      "bytelimit": 2048000,
      "rowlimit": 10000
     },
     "inputwidgets": {},
     "nuid": "bfbd87f9-7628-489c-8f8a-1f0d5d14d2be",
     "showtitle": false,
     "title": ""
    }
   },
   "outputs": [
    {
     "output_type": "stream",
     "name": "stdout",
     "output_type": "stream",
     "text": [
      "pk: 7d90716b-4ea1-4753-8090-4b72e4a2b93b\nroot\n |-- id: string (nullable = false)\n |-- pk: string (nullable = false)\n |-- emptycolumn: string (nullable = true)\n |-- nullcolumn: string (nullable = true)\n |-- defaultcolumn: integer (nullable = true)\n |-- largecolumn: string (nullable = true)\n\n+------------------------------------+------------------------------------+-----------+----------+-------------+----------------------------------------------------------------------------------------------------+\n|                                  id|                                  pk|emptycolumn|nullcolumn|defaultcolumn|                                                                                         largecolumn|\n+------------------------------------+------------------------------------+-----------+----------+-------------+----------------------------------------------------------------------------------------------------+\n|fa1a3854-4d41-4ffb-b992-a00c82585ddc|7d90716b-4ea1-4753-8090-4b72e4a2b93b|           |      null|            0|ixcqsfjhwqelwcpjtzaqquhaxlmemdpeheyfxosdobyqvbihrvrftuaicllsfllgmfzwrbefkszobvpihkqxqfyulggqgrznd...|\n|3ef8e8c0-e9e7-4a2e-887f-2a9826f7b987|7d90716b-4ea1-4753-8090-4b72e4a2b93b|           |      null|            0|obltfpuoonfywvusviupkloeojqolqqyabzhcssnefwwptgvwqgnajesmnsyslvogtclasksjwpltsqrqwkeqgazarodmvbmv...|\n+------------------------------------+------------------------------------+-----------+----------+-------------+----------------------------------------------------------------------------------------------------+\n\n"
     ]
    }
   ],
   "source": [
    "import random\n",
    "import string\n",
    "import uuid\n",
    "from pyspark.sql.types import structtype,structfield, stringtype, integertype\n",
    " \n",
    "def random_string_generator(str_size, allowed_chars):\n",
    "    return ''.join(random.choice(allowed_chars) for x in range(str_size))\n",
    " \n",
    "pk = str(uuid.uuid4())    \n",
    "print(\"pk: \" + pk)\n",
    "    \n",
    "chars = string.ascii_letters\n",
    "data = [\\\n",
    "    (str(uuid.uuid4()), pk, \"\", none, 0, random_string_generator(16000, chars)),\\\n",
    "    (str(uuid.uuid4()), pk, \"\", none, 0, random_string_generator(random.randint(16000, 170000), chars)),\\\n",
    "  ]\n",
    "\n",
    "schema = structtype([ \\\n",
    "    structfield(\"id\",stringtype(),false), \\\n",
    "    structfield(\"pk\",stringtype(),false), \\\n",
    "    structfield(\"emptycolumn\",stringtype(),true), \\\n",
    "    structfield(\"nullcolumn\",stringtype(),true), \\\n",
    "    structfield(\"defaultcolumn\",integertype(),true), \\\n",
    "    structfield(\"largecolumn\", stringtype(), true)\\\n",
    "  ])\n",
    " \n",
    "df = spark.createdataframe(data=data,schema=schema)\n",
    "df.printschema()\n",
    "df.show(truncate=100)\n",
    "\n",
    "writecfg = {\n",
    "  \"spark.cosmos.accountendpoint\": cosmosendpoint,\n",
    "  \"spark.cosmos.database\": \"test\",\n",
    "  \"spark.cosmos.container\": \"testitems\",\n",
    "  \"spark.cosmos.write.strategy\": \"itemappend\",\n",
    "  \"spark.cosmos.write.bulk.enabled\": \"true\",  \n",
    "  \"cosmos.auth.sample.enabled\": \"true\",\n",
    "  # masterkey\n",
    "  #\"cosmos.auth.sample.authtype\": \"masterkey\",\n",
    "  #\"cosmos.auth.sample.key.secret\": cosmosmasterkey,\n",
    "  #\n",
    "  # aad auth with managed identity\n",
    "  #\"cosmos.auth.sample.authtype\": \"managedidentity\",\n",
    "  #\"cosmos.auth.sample.tenantid\": \"72f988bf-86f1-41af-91ab-2d7cd011db47\",\n",
    "  #\"cosmos.auth.sample.subscriptionid\": \"8fba6d4f-7c37-4d13-9063-fd58ad2b86e2\",\n",
    "  #\"cosmos.auth.sample.resourcegroupname\": \"fabianm-oltp-spark-workshop\"\n",
    "  #\n",
    "  # aad auth with service principal (password)\n",
    "  #\"cosmos.auth.sample.authtype\": \"serviceprincipal\",\n",
    "  #\"cosmos.auth.sample.tenantid\": \"72f988bf-86f1-41af-91ab-2d7cd011db47\",\n",
    "  #\"cosmos.auth.sample.subscriptionid\": \"8fba6d4f-7c37-4d13-9063-fd58ad2b86e2\",\n",
    "  #\"cosmos.auth.sample.resourcegroupname\": \"fabianm-oltp-spark-workshop\",\n",
    "  #\"cosmos.auth.sample.serviceprincipal.clientid\": \"bd559cf4-786d-43ae-9ff6-eb83c5952c73\",\n",
    "  #\"cosmos.auth.sample.serviceprincipal.clientsecret\": cosmosserviceprincipalpassword\n",
    "  #\n",
    "  # aad auth with service principal (cert)\n",
    "  #\"cosmos.auth.sample.authtype\": \"serviceprincipal\",\n",
    "  #\"cosmos.auth.sample.tenantid\": \"72f988bf-86f1-41af-91ab-2d7cd011db47\",\n",
    "  #\"cosmos.auth.sample.subscriptionid\": \"8fba6d4f-7c37-4d13-9063-fd58ad2b86e2\",\n",
    "  #\"cosmos.auth.sample.resourcegroupname\": \"fabianm-oltp-spark-workshop\",\n",
    "  #\"cosmos.auth.sample.serviceprincipal.clientid\": \"88436299-945f-4824-8183-2cbddf981388\",\n",
    "  #\"cosmos.auth.sample.serviceprincipal.cert\": cert_data\n",
    "}\n",
    "\n",
    "df\\\n",
    "  .write \\\n",
    "  .format(\"cosmos.oltp\") \\\n",
    "  .mode(\"append\") \\\n",
    "  .options(**writecfg) \\\n",
    "  .save()\n"
   ]
  }
 ],
 "metadata": {
  "application/vnd.databricks.v1+notebook": {
   "dashboards": [],
   "language": "python",
   "notebookmetadata": {
    "mostrecentlyexecutedcommandwithimplicitdf": {
     "commandid": 3298457839905717,
     "dataframes": [
      "_sqldf"
     ]
    },
    "pythonindentunit": 4
   },
   "notebookname": "accounttokenresolversample",
   "widgets": {}
  }
 },
 "nbformat": 4,
 "nbformat_minor": 0
}
