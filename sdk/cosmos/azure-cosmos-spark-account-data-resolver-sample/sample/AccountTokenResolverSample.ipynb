{
 "cells": [
  {
   "cell_type": "code",
   "execution_count": 0,
   "metadata": {
    "application/vnd.databricks.v1+cell": {
     "cellMetadata": {
      "byteLimit": 2048000,
      "rowLimit": 10000
     },
     "inputWidgets": {},
     "nuid": "edf2bb67-c3fa-459c-bb4b-83dec2075401",
     "showTitle": false,
     "title": ""
    }
   },
   "outputs": [],
   "source": [
    "cosmosendpoint = \"<YourEndpoint>\"\n",
    "cosmosmasterkey = \"<YourKey>\"\n",
    "cosmosserviceprincipalpassword=\"\"\n",
    "accountDataResolverName = \"com.azure.cosmos.spark.samples.MasterKeyAccountDataResolver\"\n",
    "#accountDataResolverName = \"com.azure.cosmos.spark.samples.ServicePrincipalAccountDataResolver\"\n",
    "#accountDataResolverName = \"com.azure.cosmos.spark.samples.ManagedIdentityAccountDataResolver\""
   ]
  },
  {
   "cell_type": "code",
   "execution_count": 0,
   "metadata": {
    "application/vnd.databricks.v1+cell": {
     "cellMetadata": {
      "byteLimit": 2048000,
      "rowLimit": 10000
     },
     "inputWidgets": {},
     "nuid": "67f2404c-a6b6-4342-9dac-638a2bd7731c",
     "showTitle": false,
     "title": ""
    }
   },
   "outputs": [],
   "source": [
    "import base64\n",
    "import os\n",
    "\n",
    "\n",
    "cert_file= open(\"/Workspace/Users/someuser@abc.com/someCert.pem\",\"rb\")\n",
    "cert_data_binary = cert_file.read()\n",
    "cert_data = (base64.b64encode(cert_data_binary)).decode('ascii')\n"
   ]
  },
  {
   "cell_type": "code",
   "execution_count": 0,
   "metadata": {
    "application/vnd.databricks.v1+cell": {
     "cellMetadata": {
      "byteLimit": 2048000,
      "rowLimit": 10000
     },
     "inputWidgets": {},
     "nuid": "bfbd87f9-7628-489c-8f8a-1f0d5d14d2be",
     "showTitle": false,
     "title": ""
    }
   },
   "outputs": [],
   "source": [
    "import random\n",
    "import string\n",
    "import uuid\n",
    "from pyspark.sql.types import StructType,StructField, StringType, IntegerType\n",
    " \n",
    "def random_string_generator(str_size, allowed_chars):\n",
    "    return ''.join(random.choice(allowed_chars) for x in range(str_size))\n",
    " \n",
    "pk = str(uuid.uuid4())    \n",
    "print(\"pk: \" + pk)\n",
    "    \n",
    "chars = string.ascii_letters\n",
    "data = [\\\n",
    "    (str(uuid.uuid4()), pk, \"\", None, 0, random_string_generator(16000, chars)),\\\n",
    "    (str(uuid.uuid4()), pk, \"\", None, 0, random_string_generator(random.randint(16000, 170000), chars)),\\\n",
    "  ]\n",
    "\n",
    "schema = StructType([ \\\n",
    "    StructField(\"id\",StringType(),False), \\\n",
    "    StructField(\"pk\",StringType(),False), \\\n",
    "    StructField(\"emptycolumn\",StringType(),True), \\\n",
    "    StructField(\"nullcolumn\",StringType(),True), \\\n",
    "    StructField(\"defaultcolumn\",IntegerType(),True), \\\n",
    "    StructField(\"largecolumn\", StringType(), True)\\\n",
    "  ])\n",
    " \n",
    "df = spark.createDataFrame(data=data,schema=schema)\n",
    "df.printSchema()\n",
    "df.show(truncate=100)\n",
    "\n",
    "writecfg = {\n",
    "  \"spark.cosmos.accountendpoint\": cosmosendpoint,\n",
    "  \"spark.cosmos.accountDataResolverServiceName\": accountDataResolverName,\n",
    "  \"spark.cosmos.database\": \"Test\",\n",
    "  \"spark.cosmos.container\": \"TestItems\",\n",
    "  \"spark.cosmos.write.strategy\": \"itemappend\",\n",
    "  \"spark.cosmos.write.bulk.enabled\": \"true\",  \n",
    "  \"cosmos.auth.sample.enabled\": \"true\",\n",
    "  # masterkey\n",
    "  #\"cosmos.auth.sample.authType\": \"masterkey\",\n",
    "  #\"cosmos.auth.sample.key.secret\": cosmosmasterkey,\n",
    "  #\n",
    "  # aad auth with managed identity\n",
    "  #\"cosmos.auth.sample.authType\": \"managedidentity\",\n",
    "  #\"cosmos.auth.sample.tenantId\": \"72f988bf-86f1-41af-91ab-2d7cd011db47\",\n",
    "  #\"cosmos.auth.sample.subscriptionId\": \"8fba6d4f-7c37-4d13-9063-fd58ad2b86e2\",\n",
    "  #\"cosmos.auth.sample.resourcegroupname\": \"fabianm-oltp-spark-workshop\"\n",
    "  #\n",
    "  # aad auth with service principal (password)\n",
    "  #\"cosmos.auth.sample.authType\": \"serviceprincipal\",\n",
    "  #\"cosmos.auth.sample.tenantId\": \"72f988bf-86f1-41af-91ab-2d7cd011db47\",\n",
    "  #\"cosmos.auth.sample.subscriptionId\": \"8fba6d4f-7c37-4d13-9063-fd58ad2b86e2\",\n",
    "  #\"cosmos.auth.sample.resourcegroupname\": \"fabianm-oltp-spark-workshop\",\n",
    "  #\"cosmos.auth.sample.serviceprincipal.clientId\": \"bd559cf4-786d-43ae-9ff6-eb83c5952c73\",\n",
    "  #\"cosmos.auth.sample.serviceprincipal.clientsecret\": cosmosserviceprincipalpassword\n",
    "  #\n",
    "  # aad auth with service principal (cert)\n",
    "  #\"cosmos.auth.sample.authType\": \"serviceprincipal\",\n",
    "  #\"cosmos.auth.sample.tenantId\": \"72f988bf-86f1-41af-91ab-2d7cd011db47\",\n",
    "  #\"cosmos.auth.sample.subscriptionId\": \"8fba6d4f-7c37-4d13-9063-fd58ad2b86e2\",\n",
    "  #\"cosmos.auth.sample.resourcegroupname\": \"fabianm-oltp-spark-workshop\",\n",
    "  #\"cosmos.auth.sample.serviceprincipal.clientId\": \"88436299-945f-4824-8183-2cbddf981388\",\n",
    "  #\"cosmos.auth.sample.serviceprincipal.cert\": cert_data\n",
    "}\n",
    "\n",
    "df\\\n",
    "  .write \\\n",
    "  .format(\"cosmos.oltp\") \\\n",
    "  .mode(\"append\") \\\n",
    "  .options(**writecfg) \\\n",
    "  .save()\n"
   ]
  }
 ],
 "metadata": {
  "application/vnd.databricks.v1+notebook": {
   "dashboards": [],
   "environmentMetadata": null,
   "language": "python",
   "notebookMetadata": {
    "pythonIndentUnit": 4
   },
   "notebookName": "AccountTokenResolverSample",
   "widgets": {}
  }
 },
 "nbformat": 4,
 "nbformat_minor": 0
}
